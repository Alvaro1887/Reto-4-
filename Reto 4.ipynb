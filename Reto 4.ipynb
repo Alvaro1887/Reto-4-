{
 "cells": [
  {
   "cell_type": "markdown",
   "metadata": {},
   "source": [
    "# Buenas Gente, aqui comienzo con mi reto#4.\n",
    "## Punto 1:\n",
    " Dado un número entero, determinar si ese número corresponde al código ASCII de una vocal minúscula."
   ]
  },
  {
   "cell_type": "code",
   "execution_count": 99,
   "metadata": {},
   "outputs": [
    {
     "name": "stdout",
     "output_type": "stream",
     "text": [
      "El número 6 no corresponde al código ASCII de una vocal minúscula.\n"
     ]
    }
   ],
   "source": [
    "def es_vocal_minuscula_ascii(n):\n",
    "    # Verificamos si el número está en el rango de los códigos ASCII de las vocales minúsculas\n",
    "    vocales_ascii = [ord('a'), ord('e'), ord('i'), ord('o'), ord('u')]\n",
    "    return n in vocales_ascii\n",
    "\n",
    "n = int(input(\"Introduce un número entero: \"))\n",
    "if es_vocal_minuscula_ascii(n):\n",
    "    print(f\"El número {n} corresponde al código ASCII de una vocal minúscula.\")\n",
    "else:\n",
    "    print(f\"El número {n} no corresponde al código ASCII de una vocal minúscula.\")\n"
   ]
  },
  {
   "cell_type": "markdown",
   "metadata": {},
   "source": [
    "## Punto 2\n",
    "Dada una cadena de longitud 1, determine si el código ASCII de primera letra de la cadena es par o no."
   ]
  },
  {
   "cell_type": "code",
   "execution_count": 100,
   "metadata": {},
   "outputs": [
    {
     "name": "stdout",
     "output_type": "stream",
     "text": [
      "El código ASCII de 'g' es impar.\n"
     ]
    }
   ],
   "source": [
    "def es_codigo_ascii_par(cadena):\n",
    "    if len(cadena) != 1:\n",
    "        raise ValueError(\"La cadena debe tener exactamente un carácter.\")\n",
    "    codigo_ascii = ord(cadena)  # Obtener el código ASCII del carácter\n",
    "    return codigo_ascii % 2 == 0  # Verificar si es par\n",
    "\n",
    "cadena = input(\"Introduce una cadena de longitud 1: \")\n",
    "try:\n",
    "    if es_codigo_ascii_par(cadena):\n",
    "        print(f\"El código ASCII de '{cadena}' es par.\")\n",
    "    else:\n",
    "        print(f\"El código ASCII de '{cadena}' es impar.\")\n",
    "except ValueError as e:\n",
    "    print(e)\n"
   ]
  },
  {
   "cell_type": "markdown",
   "metadata": {},
   "source": [
    "## Punto 3\n",
    "Dado un carácter, construya un programa en Python para determinar si el carácter es un dígito o no."
   ]
  },
  {
   "cell_type": "code",
   "execution_count": 101,
   "metadata": {},
   "outputs": [
    {
     "name": "stdout",
     "output_type": "stream",
     "text": [
      "'f' no es un dígito :v.\n"
     ]
    }
   ],
   "source": [
    "def es_digito(caracter):\n",
    "    if len(caracter) != 1:\n",
    "        raise ValueError(\"ingresa un caracter amigo.\")\n",
    "    return caracter.isdigit()\n",
    "\n",
    "caracter = input(\"Ingresa un caracter :): \")\n",
    "try:\n",
    "    if es_digito(caracter):\n",
    "        print(f\"'{caracter}' es un dígito.\")\n",
    "    else:\n",
    "        print(f\"'{caracter}' no es un dígito :v.\")\n",
    "except ValueError as e:\n",
    "    print(e)\n"
   ]
  },
  {
   "cell_type": "markdown",
   "metadata": {},
   "source": [
    "## Punto 4\n",
    "Realice un programa que lea dos números reales y determine si el primero es múltiplo del segundo."
   ]
  },
  {
   "cell_type": "code",
   "execution_count": 102,
   "metadata": {},
   "outputs": [
    {
     "name": "stdout",
     "output_type": "stream",
     "text": [
      "440.0 no es multiplo 45.0.\n"
     ]
    }
   ],
   "source": [
    "def es_multiplo(numero1, numero2):\n",
    "    if numero2 == 0:\n",
    "        raise ValueError(\"El segundo numero no puede ser cero.\")\n",
    "    return numero1 % numero2 == 0\n",
    "try:\n",
    "    numero1 = float(input(\"ingresa un numero real buen hombre: \"))\n",
    "    numero2 = float(input(\"Ingresa el otro numero real buen hombre: \"))\n",
    "    if es_multiplo(numero1, numero2):\n",
    "        print(f\"{numero1} es multiplo {numero2}. \")\n",
    "    else:\n",
    "        print(f\"{numero1} no es multiplo {numero2}.\")\n",
    "except ValueError as e:\n",
    "    print(e)"
   ]
  },
  {
   "cell_type": "markdown",
   "metadata": {},
   "source": [
    "## Punto 5\n",
    "Dado un número real x, construya un programa que permita determinar si el número es positivo, negativo o cero. Para cada caso de debe imprimir el texto que se especifica a continuación:\n",
    "\n",
    "Positivo: \"El número x es positivo\"\n",
    "Negativo: \"El número x es negativo\"\n",
    "Cero (0): \"El número x es el neutro para la suma\""
   ]
  },
  {
   "cell_type": "code",
   "execution_count": 103,
   "metadata": {},
   "outputs": [
    {
     "name": "stdout",
     "output_type": "stream",
     "text": [
      "El numero {x} es positivo.\n",
      "12.0\n"
     ]
    }
   ],
   "source": [
    "\n",
    "def determinar_signo(x):\n",
    "    if x > 0:\n",
    "        print(\"El numero {x} es positivo.\")\n",
    "    elif x < 0:\n",
    "        print(\"El numero {x} es negativo.\")\n",
    "    else:\n",
    "        print(\"El numero {x} es cero mi querido amigo.\")\n",
    "\n",
    "try:\n",
    "    x = float(input(\"Introduce un número mi querido amigo: \"))\n",
    "    determinar_signo(x)\n",
    "except ValueError:\n",
    "    print(\"Introduce un valor numerico valido mi querido amigo.\")\n",
    "print(x)\n",
    "\n",
    "\n",
    "\n"
   ]
  },
  {
   "cell_type": "markdown",
   "metadata": {},
   "source": [
    "## Punto 6\n",
    "Dado el centro y el radio de un círculo, determinar si un punto de R2 pertenece o no al interior del círculo"
   ]
  },
  {
   "cell_type": "code",
   "execution_count": 104,
   "metadata": {},
   "outputs": [
    {
     "name": "stdout",
     "output_type": "stream",
     "text": [
      "El punto (4.0, 89.0) no está dentro del círculo.\n"
     ]
    }
   ],
   "source": [
    "import math\n",
    "\n",
    "def esta_en_el_circulo(h, k, r, x, y):\n",
    "    \n",
    "    distancia = math.sqrt((x - h) ** 2 + (y - k) ** 2)\n",
    "    \n",
    "    return distancia < r\n",
    "\n",
    "try:\n",
    "    h = float(input(\"Introduce la coordenada x del centro del círculo amigo: \"))\n",
    "    k = float(input(\"Introduce la coordenada y del centro del círculo amigo: \"))\n",
    "    r = float(input(\"Introduce el radio del círculo :): \"))\n",
    "    x = float(input(\"Introduce la coordenada x del punto mi querido amigo: \"))\n",
    "    y = float(input(\"Introduce la coordenada y del punto mi querido amigo: \"))\n",
    "    \n",
    "    if esta_en_el_circulo(h, k, r, x, y):\n",
    "        print(f\"El punto ({x}, {y}) está dentro del círculo.\")\n",
    "    else:\n",
    "        print(f\"El punto ({x}, {y}) no está dentro del círculo.\")\n",
    "except ValueError:\n",
    "    print(\"Por favor, ingresa valores numéricos válidos.\")\n"
   ]
  },
  {
   "cell_type": "markdown",
   "metadata": {},
   "source": [
    "## Punto 7\n",
    "Dadas tres longitudes positivas, determinar si con esas longitudes se puede construir un triángulo."
   ]
  },
  {
   "cell_type": "code",
   "execution_count": 105,
   "metadata": {},
   "outputs": [
    {
     "name": "stdout",
     "output_type": "stream",
     "text": [
      "Las longitudes que ingresaste pueden formar un triangulo. \n"
     ]
    }
   ],
   "source": [
    "def es_tirangulo(a, b, c): \n",
    " # Verificamos mediante la desigualdad triangulas si es posible construirlo\n",
    " return a + b >c and a + c > b and b + c > a\n",
    "\n",
    "try:\n",
    "    a= float(input(\"Ingresa un numero para la primer longitud compañero: \"))\n",
    "    b= float(input(\"Ahora ingresa la segunda longitud compañero: \"))\n",
    "    c= float(input(\"Ingresa la tercera longitud amigo: \"))\n",
    "\n",
    "    if es_tirangulo(a, b, c):\n",
    "        print(\"Las longitudes que ingresaste pueden formar un triangulo. \")\n",
    "    else:\n",
    "        print(\"No es posible contruir un triagulo con estas longitudes. \")\n",
    "\n",
    "except ValueError:\n",
    "    print(\"Por favor ingresa un valor valido. \")"
   ]
  },
  {
   "cell_type": "markdown",
   "metadata": {},
   "source": [
    "## Ultimo punto \n",
    "Escriba un programa que reciba el nombre en minúsculas de un país de America y retorne la ciudad capital, si el país no pertenece al continente debe arrojar país no identificado (Utilice match-case)."
   ]
  },
  {
   "cell_type": "code",
   "execution_count": 106,
   "metadata": {},
   "outputs": [
    {
     "name": "stdout",
     "output_type": "stream",
     "text": [
      "Bogotá\n"
     ]
    }
   ],
   "source": [
    "def obtener_capital(pais):\n",
    "    match pais:\n",
    "        case \"argentina\":\n",
    "            return \"Buenos Aires\"\n",
    "        case \"brasil\":\n",
    "            return \"Brasilia\"\n",
    "        case \"canada\":\n",
    "            return \"Ottawa\"\n",
    "        case \"chile\":\n",
    "            return \"Santiago\"\n",
    "        case \"colombia\":\n",
    "            return \"Bogotá\"\n",
    "        case \"ecuador\":\n",
    "            return \"Quito\"\n",
    "        case \"peru\":\n",
    "            return \"Lima\"\n",
    "        case \"mexico\":\n",
    "            return \"Ciudad de México\"\n",
    "        case \"venezuela\":\n",
    "            return \"Caracas\"\n",
    "        case \"bolivia\":\n",
    "            return \"Sucre\"  # Sucre es la capital constitucional, pero La Paz es la sede del gobierno\n",
    "        case \"paraguay\":\n",
    "            return \"Asunción\"\n",
    "        case \"uruguay\":\n",
    "            return \"Montevideo\"\n",
    "        case \"guatemala\":\n",
    "            return \"Ciudad de Guatemala\"\n",
    "        case \"panama\":\n",
    "            return \"Ciudad de Panamá\"\n",
    "        case \"costa rica\":\n",
    "            return \"San José\"\n",
    "        case \"el salvador\":\n",
    "            return \"San Salvador\"\n",
    "        case \"honduras\":\n",
    "            return \"Tegucigalpa\"\n",
    "        case \"nicaragua\":\n",
    "            return \"Managua\"\n",
    "        case \"haiti\":\n",
    "            return \"Puerto Príncipe\"\n",
    "        case \"república dominicana\":\n",
    "            return \"Santo Domingo\"\n",
    "        case \"jamaica\":\n",
    "            return \"Kingston\"\n",
    "        case \"belice\":\n",
    "            return \"Belmopan\"\n",
    "        case \"barbados\":\n",
    "            return \"Bridgetown\"\n",
    "        case \"trinidad y tobago\":\n",
    "            return \"Puerto España\"\n",
    "        case _:\n",
    "            return \"País no identificado\"\n",
    "\n",
    "pais = input(\"Introduce el nombre de un país de América en minúsculas: \").strip()\n",
    "capital = obtener_capital(pais)\n",
    "print(capital)\n"
   ]
  },
  {
   "cell_type": "markdown",
   "metadata": {},
   "source": [
    "### Con esto damos por finalizado el reto#4 \n",
    "Este reto si estuvo mas complejo pero se logro jajaja, toco usar arta cosita. "
   ]
  }
 ],
 "metadata": {
  "kernelspec": {
   "display_name": "Python 3",
   "language": "python",
   "name": "python3"
  },
  "language_info": {
   "codemirror_mode": {
    "name": "ipython",
    "version": 3
   },
   "file_extension": ".py",
   "mimetype": "text/x-python",
   "name": "python",
   "nbconvert_exporter": "python",
   "pygments_lexer": "ipython3",
   "version": "3.12.7"
  }
 },
 "nbformat": 4,
 "nbformat_minor": 2
}
